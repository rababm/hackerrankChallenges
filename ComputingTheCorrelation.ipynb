{
 "cells": [
  {
   "cell_type": "code",
   "execution_count": null,
   "id": "3827130a",
   "metadata": {},
   "outputs": [],
   "source": [
    "import math\n",
    "\n",
    "numberOfCandidates = int(input())\n",
    "\n",
    "M, P, C= [], [], []\n",
    "for i in range(0, numberOfCandidates):\n",
    "    scores = input().split(\"\\t\")\n",
    "    M.append(int(scores[0]))\n",
    "    P.append(int(scores[1]))\n",
    "    C.append(int(scores[2]))\n",
    "\n",
    "def sumProduct(X,Y,n):\n",
    "    sumProduct = 0\n",
    "    for i in range(0, n):\n",
    "        sumProduct = sumProduct + X[i]*Y[i]\n",
    "    return sumProduct\n",
    "\n",
    "def sumSquare(X,n):\n",
    "    sumSquareX = 0\n",
    "    for i in range(0, n):\n",
    "        sumSquareX = sumSquareX + pow(X[i],2)\n",
    "    return sumSquareX\n",
    "\n",
    "def pearsonCorrelation(X,Y,n):\n",
    "    a = n*sumProduct(X,Y,n) - sum(X)*sum(Y)\n",
    "    b = math.sqrt(n*sumSquare(X,n)-pow(sum(X),2))\n",
    "    c = math.sqrt(n*sumSquare(Y,n)-pow(sum(Y),2))\n",
    "    return round(a/(b*c),2)\n",
    "\n",
    "MP = pearsonCorrelation(M,P,numberOfCandidates)\n",
    "PC = pearsonCorrelation(P,C,numberOfCandidates)\n",
    "MC = pearsonCorrelation(M,C,numberOfCandidates)\n",
    "print(MP)\n",
    "print(PC)\n",
    "print(MC)"
   ]
  }
 ],
 "metadata": {
  "kernelspec": {
   "display_name": "Python 3 (ipykernel)",
   "language": "python",
   "name": "python3"
  },
  "language_info": {
   "codemirror_mode": {
    "name": "ipython",
    "version": 3
   },
   "file_extension": ".py",
   "mimetype": "text/x-python",
   "name": "python",
   "nbconvert_exporter": "python",
   "pygments_lexer": "ipython3",
   "version": "3.9.13"
  }
 },
 "nbformat": 4,
 "nbformat_minor": 5
}
