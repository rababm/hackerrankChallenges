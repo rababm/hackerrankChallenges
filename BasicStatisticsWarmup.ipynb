{
 "cells": [
  {
   "cell_type": "code",
   "execution_count": null,
   "id": "ec27f39e",
   "metadata": {},
   "outputs": [],
   "source": [
    "import scipy.stats as st\n",
    "import numpy as np\n",
    "import math\n",
    "\n",
    "numberOfElements = int(input())\n",
    "\n",
    "listOfStrings = input().split(\" \")\n",
    "\n",
    "listOfElements = []\n",
    "for i in range(0, numberOfElements):\n",
    "    listOfElements.append(int(listOfStrings[i]))\n",
    "\n",
    "mean = np.mean(listOfElements)\n",
    "def standartDeviation(listOfElements):\n",
    "    element = 0\n",
    "    for i in range(0, numberOfElements):\n",
    "        element = element + (listOfElements[i]-mean)**2\n",
    "    return math.sqrt(element/numberOfElements)\n",
    "\n",
    "def mean_confidence_interval(listOfElements):\n",
    "    h = 1.96 * (standartDeviation(listOfElements)/math.sqrt(numberOfElements))\n",
    "    return str(mean-h), str(mean+h)\n",
    "\n",
    "print(mean)\n",
    "print(np.median(listOfElements))\n",
    "print(st.mode(listOfElements)[0][0])\n",
    "print(standartDeviation(listOfElements))\n",
    "confidenceInterval = st.t.interval(alpha=0.95, df=numberOfElements-1, loc=mean, scale=st.sem(listOfElements))\n",
    "print(mean_confidence_interval(listOfElements)[0] + \" \" + mean_confidence_interval(listOfElements)[1])"
   ]
  }
 ],
 "metadata": {
  "kernelspec": {
   "display_name": "Python 3 (ipykernel)",
   "language": "python",
   "name": "python3"
  },
  "language_info": {
   "codemirror_mode": {
    "name": "ipython",
    "version": 3
   },
   "file_extension": ".py",
   "mimetype": "text/x-python",
   "name": "python",
   "nbconvert_exporter": "python",
   "pygments_lexer": "ipython3",
   "version": "3.9.13"
  }
 },
 "nbformat": 4,
 "nbformat_minor": 5
}
