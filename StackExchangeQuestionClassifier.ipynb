{
 "cells": [
  {
   "cell_type": "code",
   "execution_count": null,
   "id": "c7214162",
   "metadata": {},
   "outputs": [],
   "source": [
    "import os\n",
    "import json\n",
    "from sklearn import preprocessing\n",
    "from sklearn.naive_bayes import GaussianNB\n",
    "from sklearn import preprocessing\n",
    "from sklearn.feature_extraction.text import CountVectorizer\n",
    "from sklearn.feature_extraction.text import TfidfTransformer\n",
    "from sklearn.naive_bayes import MultinomialNB\n",
    "\n",
    "def fetchTrainingData():\n",
    "    trainingDataPath = os.getcwd() + \"/training.json\"\n",
    "    with open(trainingDataPath) as trainingFile:\n",
    "        lines = trainingFile.readlines()\n",
    "    numberOfLines = int(lines[0])\n",
    "    topic = []\n",
    "    questionAndExcerpt = []\n",
    "    excerpt = []\n",
    "    for i in range(1, numberOfLines):\n",
    "        dataLine = lines[i]\n",
    "        topic.append(readJson(dataLine, \"topic\"))\n",
    "        questionAndExcerpt.append(readJson(dataLine, \"question\") + readJson(dataLine, \"excerpt\"))\n",
    "    return topic, questionAndExcerpt\n",
    "        \n",
    "def readJson(data, key):\n",
    "    return json.loads(data)[key]\n",
    "\n",
    "topic, questionAndExcerpt = fetchTrainingData()\n",
    "\n",
    "labelEncoder = preprocessing.LabelEncoder()\n",
    "encodedTopic = labelEncoder.fit_transform(topic)\n",
    "\n",
    "countVectoriser = CountVectorizer(stop_words=\"english\")\n",
    "X_train_counts = countVectoriser.fit_transform(questionAndExcerpt)\n",
    "\n",
    "tfidf_transformer = TfidfTransformer()\n",
    "X_train_tfidf = tfidf_transformer.fit_transform(X_train_counts)\n",
    "\n",
    "clf = MultinomialNB().fit(X_train_tfidf, encodedTopic)\n",
    "\n",
    "def predict(data, model = clf):\n",
    "    X_new_counts = countVectoriser.transform(data)\n",
    "    X_new_tfidf = tfidf_transformer.transform(X_new_counts)      \n",
    "    predicted = model.predict(X_new_tfidf)\n",
    "   \n",
    "    for category in labelEncoder.inverse_transform(predicted):\n",
    "        print(category)\n",
    "\n",
    "testDataCount = int(input())\n",
    "testData = []\n",
    "for i in range(0, testDataCount):\n",
    "    dataLine = input()\n",
    "    testData.append(readJson(dataLine, \"question\") + readJson(dataLine, \"excerpt\"))\n",
    "\n",
    "predict(testData)"
   ]
  }
 ],
 "metadata": {
  "kernelspec": {
   "display_name": "Python 3 (ipykernel)",
   "language": "python",
   "name": "python3"
  },
  "language_info": {
   "codemirror_mode": {
    "name": "ipython",
    "version": 3
   },
   "file_extension": ".py",
   "mimetype": "text/x-python",
   "name": "python",
   "nbconvert_exporter": "python",
   "pygments_lexer": "ipython3",
   "version": "3.9.13"
  }
 },
 "nbformat": 4,
 "nbformat_minor": 5
}
