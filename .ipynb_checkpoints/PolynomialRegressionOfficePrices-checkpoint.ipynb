{
 "cells": [
  {
   "cell_type": "code",
   "execution_count": null,
   "id": "1741f9f4",
   "metadata": {},
   "outputs": [],
   "source": [
    "import os\n",
    "import urllib.request\n",
    "import numpy as np\n",
    "from sklearn.preprocessing import PolynomialFeatures\n",
    "from sklearn.linear_model import LinearRegression\n",
    "\n",
    "inputData = input()\n",
    "numberOfFeatures = int(inputData.split()[0])\n",
    "numberOfRows = int(inputData.split()[1])\n",
    "\n",
    "data = []\n",
    "for i in range(0,numberOfRows):\n",
    "    dataLine = input()\n",
    "    data.append(dataLine.split(\" \"))\n",
    "\n",
    "splittedData = np.hsplit(np.array(data), np.array([numberOfFeatures,numberOfFeatures+1]))\n",
    "\n",
    "X = splittedData[0]\n",
    "y = splittedData[1]\n",
    "\n",
    "polynomialFeatures = PolynomialFeatures(degree=3, include_bias=False)\n",
    "polynomialX = polynomialFeatures.fit_transform(X)\n",
    "\n",
    "linearRegressionModel = LinearRegression()\n",
    "linearRegressionModel.fit(polynomialX, y)\n",
    "\n",
    "def predict(featuresArray):\n",
    "   return int(linearRegressionModel.predict(polynomialFeatures.transform(np.array(featuresArray).reshape(1,numberOfFeatures))))\n",
    "\n",
    "numberOfExamples = int(input())\n",
    "\n",
    "example = []\n",
    "for i in range(0, numberOfExamples):\n",
    "    exampleLine = input()\n",
    "    print(predict(exampleLine.split(\" \")))"
   ]
  }
 ],
 "metadata": {
  "kernelspec": {
   "display_name": "Python 3 (ipykernel)",
   "language": "python",
   "name": "python3"
  },
  "language_info": {
   "codemirror_mode": {
    "name": "ipython",
    "version": 3
   },
   "file_extension": ".py",
   "mimetype": "text/x-python",
   "name": "python",
   "nbconvert_exporter": "python",
   "pygments_lexer": "ipython3",
   "version": "3.9.13"
  }
 },
 "nbformat": 4,
 "nbformat_minor": 5
}
