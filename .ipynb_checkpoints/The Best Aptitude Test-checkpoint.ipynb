{
 "cells": [
  {
   "cell_type": "code",
   "execution_count": null,
   "id": "b400ab7f",
   "metadata": {},
   "outputs": [],
   "source": [
    "import pandas as pd\n",
    "\n",
    "numberOfExamples = int(input())\n",
    "\n",
    "\n",
    "for i in range(0, numberOfExamples):\n",
    "    numberOfStudents = int(input())\n",
    "    GPA = map(float, input().split(\" \"))\n",
    "    firstAptitudeTest = map(float, input().split(\" \"))\n",
    "    secondAptitudeTest = map(float, input().split(\" \")) \n",
    "    thirdAptitudeTest = map(float, input().split(\" \"))\n",
    "    fourthAptitudeTest = map(float, input().split(\" \"))\n",
    "    fifthAptitudeTest = map(float, input().split(\" \"))\n",
    "    df = pd.DataFrame({'GPA': GPA, '1': firstAptitudeTest, '2':  secondAptitudeTest, '3': thirdAptitudeTest, '4':    fourthAptitudeTest, '5': fifthAptitudeTest})\n",
    "    print(df.corrwith(df['GPA']).drop('GPA').idxmax())"
   ]
  }
 ],
 "metadata": {
  "kernelspec": {
   "display_name": "Python 3 (ipykernel)",
   "language": "python",
   "name": "python3"
  },
  "language_info": {
   "codemirror_mode": {
    "name": "ipython",
    "version": 3
   },
   "file_extension": ".py",
   "mimetype": "text/x-python",
   "name": "python",
   "nbconvert_exporter": "python",
   "pygments_lexer": "ipython3",
   "version": "3.9.13"
  }
 },
 "nbformat": 4,
 "nbformat_minor": 5
}
